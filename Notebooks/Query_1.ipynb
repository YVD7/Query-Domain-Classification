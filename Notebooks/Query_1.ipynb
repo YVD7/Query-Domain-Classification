{
 "cells": [
  {
   "cell_type": "code",
   "execution_count": 1,
   "metadata": {},
   "outputs": [],
   "source": [
    "# importing libraries\n",
    "import numpy as np\n",
    "import pandas as pd\n",
    "import matplotlib.pyplot as plt\n",
    "import seaborn as sns"
   ]
  },
  {
   "cell_type": "code",
   "execution_count": 2,
   "metadata": {},
   "outputs": [],
   "source": [
    "# reading data set\n",
    "train = pd.read_csv('/home/yash/project/Analytics_Vidya/Hack_A_Thon/Query-Domain-Classification/dataset/train_3.csv') \n",
    "test = pd.read_csv('/home/yash/project/Analytics_Vidya/Hack_A_Thon/Query-Domain-Classification/dataset/test_ZUT1mqB.csv')"
   ]
  },
  {
   "cell_type": "code",
   "execution_count": 12,
   "metadata": {},
   "outputs": [
    {
     "data": {
      "text/html": [
       "<div>\n",
       "<style scoped>\n",
       "    .dataframe tbody tr th:only-of-type {\n",
       "        vertical-align: middle;\n",
       "    }\n",
       "\n",
       "    .dataframe tbody tr th {\n",
       "        vertical-align: top;\n",
       "    }\n",
       "\n",
       "    .dataframe thead th {\n",
       "        text-align: right;\n",
       "    }\n",
       "</style>\n",
       "<table border=\"1\" class=\"dataframe\">\n",
       "  <thead>\n",
       "    <tr style=\"text-align: right;\">\n",
       "      <th></th>\n",
       "      <th>ID</th>\n",
       "      <th>Title</th>\n",
       "      <th>Domain</th>\n",
       "    </tr>\n",
       "  </thead>\n",
       "  <tbody>\n",
       "    <tr>\n",
       "      <th>0</th>\n",
       "      <td>1</td>\n",
       "      <td>What is good in a decision tree, a large or a ...</td>\n",
       "      <td>Techniques</td>\n",
       "    </tr>\n",
       "    <tr>\n",
       "      <th>1</th>\n",
       "      <td>2</td>\n",
       "      <td>Training data only contains single positive label</td>\n",
       "      <td>Techniques</td>\n",
       "    </tr>\n",
       "    <tr>\n",
       "      <th>2</th>\n",
       "      <td>3</td>\n",
       "      <td>Calculating percentage contribution of a negat...</td>\n",
       "      <td>Techniques</td>\n",
       "    </tr>\n",
       "    <tr>\n",
       "      <th>3</th>\n",
       "      <td>4</td>\n",
       "      <td>Unable to open solution checker!</td>\n",
       "      <td>Hackathons</td>\n",
       "    </tr>\n",
       "    <tr>\n",
       "      <th>4</th>\n",
       "      <td>5</td>\n",
       "      <td>User Name Change</td>\n",
       "      <td>Misc</td>\n",
       "    </tr>\n",
       "    <tr>\n",
       "      <th>...</th>\n",
       "      <td>...</td>\n",
       "      <td>...</td>\n",
       "      <td>...</td>\n",
       "    </tr>\n",
       "    <tr>\n",
       "      <th>3840</th>\n",
       "      <td>3841</td>\n",
       "      <td>Where to find practice problems for linear reg...</td>\n",
       "      <td>Resources</td>\n",
       "    </tr>\n",
       "    <tr>\n",
       "      <th>3841</th>\n",
       "      <td>3842</td>\n",
       "      <td>Running Java code on the GPU with Aparapi</td>\n",
       "      <td>Tools</td>\n",
       "    </tr>\n",
       "    <tr>\n",
       "      <th>3842</th>\n",
       "      <td>3843</td>\n",
       "      <td>R/Python Script needed to assign Cluster ID to...</td>\n",
       "      <td>Tools</td>\n",
       "    </tr>\n",
       "    <tr>\n",
       "      <th>3843</th>\n",
       "      <td>3844</td>\n",
       "      <td>Separate a column into two column</td>\n",
       "      <td>Techniques</td>\n",
       "    </tr>\n",
       "    <tr>\n",
       "      <th>3844</th>\n",
       "      <td>3845</td>\n",
       "      <td>Clustering and Segmentation</td>\n",
       "      <td>Techniques</td>\n",
       "    </tr>\n",
       "  </tbody>\n",
       "</table>\n",
       "<p>3845 rows × 3 columns</p>\n",
       "</div>"
      ],
      "text/plain": [
       "        ID                                              Title      Domain\n",
       "0        1  What is good in a decision tree, a large or a ...  Techniques\n",
       "1        2  Training data only contains single positive label  Techniques\n",
       "2        3  Calculating percentage contribution of a negat...  Techniques\n",
       "3        4                   Unable to open solution checker!  Hackathons\n",
       "4        5                                   User Name Change        Misc\n",
       "...    ...                                                ...         ...\n",
       "3840  3841  Where to find practice problems for linear reg...   Resources\n",
       "3841  3842          Running Java code on the GPU with Aparapi       Tools\n",
       "3842  3843  R/Python Script needed to assign Cluster ID to...       Tools\n",
       "3843  3844                  Separate a column into two column  Techniques\n",
       "3844  3845                        Clustering and Segmentation  Techniques\n",
       "\n",
       "[3845 rows x 3 columns]"
      ]
     },
     "execution_count": 12,
     "metadata": {},
     "output_type": "execute_result"
    }
   ],
   "source": [
    "train # train dataset"
   ]
  },
  {
   "cell_type": "code",
   "execution_count": 13,
   "metadata": {},
   "outputs": [
    {
     "data": {
      "text/html": [
       "<div>\n",
       "<style scoped>\n",
       "    .dataframe tbody tr th:only-of-type {\n",
       "        vertical-align: middle;\n",
       "    }\n",
       "\n",
       "    .dataframe tbody tr th {\n",
       "        vertical-align: top;\n",
       "    }\n",
       "\n",
       "    .dataframe thead th {\n",
       "        text-align: right;\n",
       "    }\n",
       "</style>\n",
       "<table border=\"1\" class=\"dataframe\">\n",
       "  <thead>\n",
       "    <tr style=\"text-align: right;\">\n",
       "      <th></th>\n",
       "      <th>ID</th>\n",
       "      <th>Title</th>\n",
       "    </tr>\n",
       "  </thead>\n",
       "  <tbody>\n",
       "    <tr>\n",
       "      <th>0</th>\n",
       "      <td>3846</td>\n",
       "      <td>Spark Cheatsheet</td>\n",
       "    </tr>\n",
       "    <tr>\n",
       "      <th>1</th>\n",
       "      <td>3847</td>\n",
       "      <td>Review of Random forest code in Python</td>\n",
       "    </tr>\n",
       "    <tr>\n",
       "      <th>2</th>\n",
       "      <td>3848</td>\n",
       "      <td>Chi-Sq Test for Numeric variables</td>\n",
       "    </tr>\n",
       "    <tr>\n",
       "      <th>3</th>\n",
       "      <td>3849</td>\n",
       "      <td>Prediction from loaded pickled file for single...</td>\n",
       "    </tr>\n",
       "    <tr>\n",
       "      <th>4</th>\n",
       "      <td>3850</td>\n",
       "      <td>Even after installing Anaconda on my PC, I am ...</td>\n",
       "    </tr>\n",
       "    <tr>\n",
       "      <th>...</th>\n",
       "      <td>...</td>\n",
       "      <td>...</td>\n",
       "    </tr>\n",
       "    <tr>\n",
       "      <th>1644</th>\n",
       "      <td>5490</td>\n",
       "      <td>Should we take all the variables from the trai...</td>\n",
       "    </tr>\n",
       "    <tr>\n",
       "      <th>1645</th>\n",
       "      <td>5491</td>\n",
       "      <td>Time Series Forecasting and reducing it to sta...</td>\n",
       "    </tr>\n",
       "    <tr>\n",
       "      <th>1646</th>\n",
       "      <td>5492</td>\n",
       "      <td>Data Visualization and text analysis (twitter ...</td>\n",
       "    </tr>\n",
       "    <tr>\n",
       "      <th>1647</th>\n",
       "      <td>5493</td>\n",
       "      <td>Cross Validation strategy for stacked models</td>\n",
       "    </tr>\n",
       "    <tr>\n",
       "      <th>1648</th>\n",
       "      <td>5494</td>\n",
       "      <td>How to convert Cross Table into Straight Table...</td>\n",
       "    </tr>\n",
       "  </tbody>\n",
       "</table>\n",
       "<p>1649 rows × 2 columns</p>\n",
       "</div>"
      ],
      "text/plain": [
       "        ID                                              Title\n",
       "0     3846                                   Spark Cheatsheet\n",
       "1     3847             Review of Random forest code in Python\n",
       "2     3848                  Chi-Sq Test for Numeric variables\n",
       "3     3849  Prediction from loaded pickled file for single...\n",
       "4     3850  Even after installing Anaconda on my PC, I am ...\n",
       "...    ...                                                ...\n",
       "1644  5490  Should we take all the variables from the trai...\n",
       "1645  5491  Time Series Forecasting and reducing it to sta...\n",
       "1646  5492  Data Visualization and text analysis (twitter ...\n",
       "1647  5493       Cross Validation strategy for stacked models\n",
       "1648  5494  How to convert Cross Table into Straight Table...\n",
       "\n",
       "[1649 rows x 2 columns]"
      ]
     },
     "execution_count": 13,
     "metadata": {},
     "output_type": "execute_result"
    }
   ],
   "source": [
    "test # test_dataset"
   ]
  },
  {
   "cell_type": "code",
   "execution_count": 27,
   "metadata": {},
   "outputs": [
    {
     "name": "stdout",
     "output_type": "stream",
     "text": [
      "<class 'pandas.core.frame.DataFrame'>\n",
      "RangeIndex: 3845 entries, 0 to 3844\n",
      "Data columns (total 3 columns):\n",
      " #   Column  Non-Null Count  Dtype \n",
      "---  ------  --------------  ----- \n",
      " 0   ID      3845 non-null   int64 \n",
      " 1   Title   3834 non-null   object\n",
      " 2   Domain  3845 non-null   object\n",
      "dtypes: int64(1), object(2)\n",
      "memory usage: 90.2+ KB\n",
      "<class 'pandas.core.frame.DataFrame'>\n",
      "RangeIndex: 1649 entries, 0 to 1648\n",
      "Data columns (total 2 columns):\n",
      " #   Column  Non-Null Count  Dtype \n",
      "---  ------  --------------  ----- \n",
      " 0   ID      1649 non-null   int64 \n",
      " 1   Title   1649 non-null   object\n",
      "dtypes: int64(1), object(1)\n",
      "memory usage: 25.9+ KB\n"
     ]
    },
    {
     "data": {
      "text/plain": [
       "(None, None)"
      ]
     },
     "execution_count": 27,
     "metadata": {},
     "output_type": "execute_result"
    }
   ],
   "source": [
    "train.info() , test.info()"
   ]
  },
  {
   "cell_type": "code",
   "execution_count": 5,
   "metadata": {},
   "outputs": [
    {
     "data": {
      "text/plain": [
       "<bound method Series.unique of 0       Techniques\n",
       "1       Techniques\n",
       "2       Techniques\n",
       "3       Hackathons\n",
       "4             Misc\n",
       "           ...    \n",
       "3840     Resources\n",
       "3841         Tools\n",
       "3842         Tools\n",
       "3843    Techniques\n",
       "3844    Techniques\n",
       "Name: Domain, Length: 3845, dtype: object>"
      ]
     },
     "execution_count": 5,
     "metadata": {},
     "output_type": "execute_result"
    }
   ],
   "source": [
    "train['Domain'].unique"
   ]
  },
  {
   "cell_type": "code",
   "execution_count": 11,
   "metadata": {},
   "outputs": [
    {
     "data": {
      "text/plain": [
       "<bound method IndexOpsMixin.value_counts of 0       What is good in a decision tree, a large or a ...\n",
       "1       Training data only contains single positive label\n",
       "2       Calculating percentage contribution of a negat...\n",
       "3                        Unable to open solution checker!\n",
       "4                                        User Name Change\n",
       "                              ...                        \n",
       "3840    Where to find practice problems for linear reg...\n",
       "3841            Running Java code on the GPU with Aparapi\n",
       "3842    R/Python Script needed to assign Cluster ID to...\n",
       "3843                    Separate a column into two column\n",
       "3844                          Clustering and Segmentation\n",
       "Name: Title, Length: 3845, dtype: object>"
      ]
     },
     "execution_count": 11,
     "metadata": {},
     "output_type": "execute_result"
    }
   ],
   "source": [
    "train['Title'].value_counts"
   ]
  },
  {
   "cell_type": "markdown",
   "metadata": {},
   "source": []
  },
  {
   "cell_type": "code",
   "execution_count": null,
   "metadata": {},
   "outputs": [],
   "source": [
    "plt.plot()"
   ]
  }
 ],
 "metadata": {
  "kernelspec": {
   "display_name": "Python 3",
   "language": "python",
   "name": "python3"
  },
  "language_info": {
   "codemirror_mode": {
    "name": "ipython",
    "version": 3
   },
   "file_extension": ".py",
   "mimetype": "text/x-python",
   "name": "python",
   "nbconvert_exporter": "python",
   "pygments_lexer": "ipython3",
   "version": "3.10.0"
  },
  "orig_nbformat": 4,
  "vscode": {
   "interpreter": {
    "hash": "15f8b2796f05aa8d615684ce40d19f177327ca8ad1dc290eca60be6149b38b10"
   }
  }
 },
 "nbformat": 4,
 "nbformat_minor": 2
}
